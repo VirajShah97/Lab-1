{
 "cells": [
  {
   "cell_type": "markdown",
   "metadata": {},
   "source": [
    "# Lab # 1: Python Essentials"
   ]
  },
  {
   "cell_type": "markdown",
   "metadata": {},
   "source": [
    "Exercise # 1.1\n",
    "Defining varaibles to be used later in the calculation of t"
   ]
  },
  {
   "cell_type": "code",
   "execution_count": 1,
   "metadata": {},
   "outputs": [],
   "source": [
    "n = 30\n",
    "alpha = 0.05\n",
    "q = 1 - (alpha/2)\n",
    "df = n-1"
   ]
  },
  {
   "cell_type": "markdown",
   "metadata": {},
   "source": [
    "Exercise # 1.2\n",
    "Importing scipy.stats and calculation of t"
   ]
  },
  {
   "cell_type": "code",
   "execution_count": 2,
   "metadata": {},
   "outputs": [
    {
     "name": "stdout",
     "output_type": "stream",
     "text": [
      "t value using scipy.stats.t.ppf is: \n",
      "2.045229642132703\n"
     ]
    }
   ],
   "source": [
    "import scipy.stats\n",
    "t = scipy.stats.t.ppf(q, df)\n",
    "print('t value using scipy.stats.t.ppf is: ')\n",
    "print(t)"
   ]
  },
  {
   "cell_type": "markdown",
   "metadata": {},
   "source": [
    "Exercise # 1.3a \n",
    "Calculating the value of t with the format: stats.t.ppf()\n"
   ]
  },
  {
   "cell_type": "code",
   "execution_count": 3,
   "metadata": {},
   "outputs": [
    {
     "name": "stdout",
     "output_type": "stream",
     "text": [
      "t value using stats.t.ppf is :\n",
      "2.045229642132703\n"
     ]
    }
   ],
   "source": [
    "from scipy import stats\n",
    "print('t value using stats.t.ppf is :')\n",
    "t = stats.t.ppf(q, df)\n",
    "print(t)"
   ]
  },
  {
   "cell_type": "markdown",
   "metadata": {},
   "source": [
    "Exercise # 1.3b \n",
    "Calculating the value of t with the format: t.ppf()"
   ]
  },
  {
   "cell_type": "code",
   "execution_count": 4,
   "metadata": {},
   "outputs": [
    {
     "name": "stdout",
     "output_type": "stream",
     "text": [
      "t value using t.ppf is: \n",
      "2.045229642132703\n"
     ]
    }
   ],
   "source": [
    "from scipy.stats import t\n",
    "print('t value using t.ppf is: ')\n",
    "t = t.ppf(q, df)\n",
    "print(t)"
   ]
  },
  {
   "cell_type": "markdown",
   "metadata": {},
   "source": [
    "Exercise # 1.3c\n",
    "Calculating the value of t with the format: ss.t.ppf()"
   ]
  },
  {
   "cell_type": "code",
   "execution_count": 5,
   "metadata": {},
   "outputs": [
    {
     "name": "stdout",
     "output_type": "stream",
     "text": [
      "t value using ss.t.ppf is: \n",
      "2.045229642132703\n"
     ]
    }
   ],
   "source": [
    "import scipy.stats as ss\n",
    "print('t value using ss.t.ppf is: ')\n",
    "t= ss.t.ppf(q, df)\n",
    "print(t)"
   ]
  },
  {
   "cell_type": "markdown",
   "metadata": {},
   "source": [
    "Exercise # 2.1 \n",
    "Calculating the sample size from the list"
   ]
  },
  {
   "cell_type": "code",
   "execution_count": 12,
   "metadata": {},
   "outputs": [
    {
     "name": "stdout",
     "output_type": "stream",
     "text": [
      "Sample size is 20\n"
     ]
    }
   ],
   "source": [
    "sample = [81.62, 57.13, 56.65, 14.46, 73.09, 12.11, 92.51, 23.67, 14.39, 50.36, 88.62, 27.62, 27.74, 62.28, 73.00 , 84.46, 49.30, 54.99, 54.90 , 47.74]\n",
    "\n",
    "sample_size = len(sample)\n",
    "print('Sample size is ' + str(sample_size))"
   ]
  },
  {
   "cell_type": "markdown",
   "metadata": {},
   "source": [
    "Exercise # 2.2\n",
    "Calculating the mean"
   ]
  },
  {
   "cell_type": "code",
   "execution_count": 13,
   "metadata": {},
   "outputs": [
    {
     "name": "stdout",
     "output_type": "stream",
     "text": [
      "Sample mean is 52.33200000000001\n"
     ]
    }
   ],
   "source": [
    "sample_sum = sum(sample)\n",
    "sample_avg = sample_sum/sample_size\n",
    "print('Sample mean is ' + str(sample_avg))"
   ]
  },
  {
   "cell_type": "markdown",
   "metadata": {},
   "source": [
    "Exercise # 2.3 \n",
    "Calculating the sample standard deviation"
   ]
  },
  {
   "cell_type": "code",
   "execution_count": 14,
   "metadata": {},
   "outputs": [
    {
     "name": "stdout",
     "output_type": "stream",
     "text": [
      "Standard deviation of the sample is 24.896039765392405\n"
     ]
    }
   ],
   "source": [
    "import math\n",
    "capital_sigma = 0\n",
    "for i in sample:\n",
    "    deviation = (i - sample_avg)**2\n",
    "    capital_sigma = capital_sigma + deviation\n",
    "    \n",
    "stdev = math.sqrt(capital_sigma/sample_size)\n",
    "print('Standard deviation of the sample is ' + str(stdev))"
   ]
  },
  {
   "cell_type": "markdown",
   "metadata": {},
   "source": [
    "Exercise # 2.4\n",
    "Re-calculating the t-multiple using sample size"
   ]
  },
  {
   "cell_type": "code",
   "execution_count": 15,
   "metadata": {},
   "outputs": [],
   "source": [
    "from scipy.stats import t\n",
    "alpha = 0.05\n",
    "q = 1 - (alpha/2)\n",
    "n = 20\n",
    "df = n-1\n",
    "t = t.ppf(q, df)"
   ]
  },
  {
   "cell_type": "markdown",
   "metadata": {},
   "source": [
    "Exercise # 2.5 \n",
    "Calculating 95% confidence interval limits"
   ]
  },
  {
   "cell_type": "code",
   "execution_count": 10,
   "metadata": {},
   "outputs": [
    {
     "name": "stdout",
     "output_type": "stream",
     "text": [
      "The confidence interval range is from 40.680294726993424 to 63.98370527300659\n"
     ]
    }
   ],
   "source": [
    "upper_confidence_interval = sample_avg + (t*(stdev/(math.sqrt(n))))\n",
    "lower_confidence_interval = sample_avg - (t*(stdev/(math.sqrt(n))))\n",
    "\n",
    "print('The confidence interval range is from ' + str(lower_confidence_interval) + ' to ' + str(upper_confidence_interval))"
   ]
  },
  {
   "cell_type": "markdown",
   "metadata": {},
   "source": [
    "Exercise # 3.a\n",
    "Capitalizing the first letter of the string"
   ]
  },
  {
   "cell_type": "code",
   "execution_count": 11,
   "metadata": {},
   "outputs": [
    {
     "name": "stdout",
     "output_type": "stream",
     "text": [
      "The game yesterday was awesome!\n"
     ]
    }
   ],
   "source": [
    "string1 = \"the game yesterday was awesome!\"\n",
    "print(string1.capitalize())"
   ]
  },
  {
   "cell_type": "markdown",
   "metadata": {},
   "source": [
    "Exercise # 3.b\n",
    "Changing the spelling of \"unacceptible\" to \"unacceptable\" using slicing"
   ]
  },
  {
   "cell_type": "code",
   "execution_count": 11,
   "metadata": {},
   "outputs": [
    {
     "name": "stdout",
     "output_type": "stream",
     "text": [
      "I found the quality of this deliverable to be unacceptable\n"
     ]
    }
   ],
   "source": [
    "string2 = \"I found the quality of this deliverable to be unacceptible.\"\n",
    "string2_first = slice(-5)\n",
    "string2_second = slice(-4,-1,1)\n",
    "print(string2[string2_first] + 'a' + string2[string2_second])"
   ]
  },
  {
   "cell_type": "markdown",
   "metadata": {},
   "source": [
    "Exercise # 3.c\n",
    "Removing all the \"-\" by using the replace function "
   ]
  },
  {
   "cell_type": "code",
   "execution_count": 13,
   "metadata": {},
   "outputs": [
    {
     "name": "stdout",
     "output_type": "stream",
     "text": [
      "Why did someone type a dash after every word?\n"
     ]
    }
   ],
   "source": [
    "string3 = \"Why- did- someone- type- a- dash- after- every- word-?\"\n",
    "print(string3.replace(\"-\",\"\",9))"
   ]
  },
  {
   "cell_type": "markdown",
   "metadata": {},
   "source": [
    "Exercise # 3.d\n",
    "Removing all the \",\" and putting spaces instead using split and strip"
   ]
  },
  {
   "cell_type": "code",
   "execution_count": 14,
   "metadata": {},
   "outputs": [
    {
     "name": "stdout",
     "output_type": "stream",
     "text": [
      "Here are the words in this sentence.\n"
     ]
    }
   ],
   "source": [
    "string4 = \"Here,are,the,words,in,this,sentence.\"\n",
    "print(' '.join(x.strip() for x in string4.split(',')))"
   ]
  }
 ],
 "metadata": {
  "kernelspec": {
   "display_name": "Python 3",
   "language": "python",
   "name": "python3"
  },
  "language_info": {
   "codemirror_mode": {
    "name": "ipython",
    "version": 3
   },
   "file_extension": ".py",
   "mimetype": "text/x-python",
   "name": "python",
   "nbconvert_exporter": "python",
   "pygments_lexer": "ipython3",
   "version": "3.7.3"
  }
 },
 "nbformat": 4,
 "nbformat_minor": 2
}
